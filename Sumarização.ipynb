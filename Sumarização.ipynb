{
  "nbformat": 4,
  "nbformat_minor": 0,
  "metadata": {
    "colab": {
      "provenance": [],
      "authorship_tag": "ABX9TyOw6FeCHQZPmeJ7Uu5JTqYt",
      "include_colab_link": true
    },
    "kernelspec": {
      "name": "python3",
      "display_name": "Python 3"
    },
    "language_info": {
      "name": "python"
    }
  },
  "cells": [
    {
      "cell_type": "markdown",
      "metadata": {
        "id": "view-in-github",
        "colab_type": "text"
      },
      "source": [
        "<a href=\"https://colab.research.google.com/github/EdmarBortoletto/Ciencias-de-Dados/blob/main/Sumariza%C3%A7%C3%A3o.ipynb\" target=\"_parent\"><img src=\"https://colab.research.google.com/assets/colab-badge.svg\" alt=\"Open In Colab\"/></a>"
      ]
    },
    {
      "cell_type": "code",
      "execution_count": null,
      "metadata": {
        "id": "N88AqSnWp_DR"
      },
      "outputs": [],
      "source": [
        "import re\n",
        "import nltk\n",
        "import string"
      ]
    },
    {
      "cell_type": "code",
      "source": [
        "texto_original = \"\"\"Por muito tempo, as origens de Ahri foram um mistério até para ela. A história da tribo vastaya desapareceu sem rastros, exceto pelo par de gemas idênticas que ela sempre teve consigo. As suas memórias mais antigas são de correr com raposas-do-gelo no norte de Shon-Xan. Ahri sabia que não era igual a elas, mas as raposas a viam como uma criatura próxima o bastante e a aceitaram na sua matilha.Naquela existência selvagem e predatória, Ahri sentia uma grande conexão com as florestas ao seu redor. Com o tempo, ela passou a entender que isso se devia à magia vastaya que pulsava em suas veias e ao reino espiritual que estava além de tudo aquilo. Sem ninguém para ensiná-la, ela acabou criando suas próprias formas de invocar esse poder, e costumava usá-lo para melhorar seus reflexos durante a caça. Também descobriu que era capaz de acalmar um cervo apavorado, deixando-o sereno e tranquilo enquanto ela e sua matilha o devoravam.O mundo dos mortais era tão distante e inquietante para Ahri quanto para as raposas, mas, por razões que ela não conseguia explicar, a atraía, especialmente os seres humanos, essas criaturas grosseiras e rudes… E quando um bando de caçadores acampava nas proximidades, ela os observava de longe em suas atividades terríveis.Certo dia, quando um foi ferido por uma flecha perdida, Ahri pôde sentir a vida dele se esvair. Ela instintivamente devorou sua essência, deixando apenas seu corpo, e absorveu breves flashes das lembranças dele; do amor que ele tinha perdido em combate, dos filhos que ele tinha deixado para trás quando veio para o norte. Sutilmente, ela transformou os medos dele em tristeza e, depois, em alegria, e o consolou com visões de um campo ensolarado em seu leito de morte.Em seguida, ela percebeu que era capaz de usar palavras humanas com facilidade, como se as lembrasse de um sonho. Foi então que entendeu que chegara a hora de deixar seu bando para trás.Mantendo-se à margem da sociedade, agora ela se sentia mais viva do que nunca. Sua natureza predatória permaneceu viva, mas ela se viu em um turbilhão de novas experiências, emoções e costumes por toda Ionia. Os mortais, por sua vez, também pareciam fascinados por ela, que usava isso em benefício próprio, sugando suas essências e encantando-os com visões de beleza, alucinações de anelos profundos e, às vezes, sonhos de pura tristeza.Ela se embriagava com memórias que não eram suas e se deliciava ao tomar suas vidas, mesmo sentindo a angústia e a tristeza de suas vítimas. Ela conheceu a dor da perda e a alegria em flashes perturbadores que a deixavam querendo mais. Tudo era muito intenso, mas sempre que tentava se afastar, ela sentia seu próprio poder diminuir e acabava voltando. Com o tempo, ela começou a ver a si mesma tal qual os mortais a viam: como um monstro.Até que, certo dia, um artista cruzou seu caminho e a viu curvada sobre um homem enquanto drenava sua vida. Em um momento no qual outros teriam fugido, ele permaneceu e ofereceu sua própria essência em troca do coração de Ahri. Pela primeira vez na vida, ela se deixou amar e ser amada, totalmente e por inteiro.Os dias passavam repletos de calor e risadas, e ela saciava a fome se alimentando de seu amado. Ela estava feliz de verdade... até que perdeu o controle e drenou seu amado por completo.Ela entrou em desespero, consumida pelo luto enquanto lamentava a perda da primeira e única pessoa que havia amado de verdade. A primeira e única pessoa que a havia amado de verdade. Ahri se afastou ainda mais da sociedade, se dedicou a aprender mais sobre sua origem, na esperança de que isso a ajudasse a controlar suas habilidades.Ela partiu em busca de outros como ela, levando consigo suas pedras solares. Uma jornada que a levaria para fora de Ionia e por toda Runeterra, fazendo-a descobrir seus ancestrais, os vesani, uma tribo vastaya que trouxe inovação e magia para o mundo antes de ser exterminada.Inspirada por suas memórias, Ahri partiu mundo afora em busca de mais vestígios dos Vesani. Ela espera dar continuidade ao seu legado, levando o bem para o mundo tal como eles fizeram. Sem o fardo de seus arrependimentos nas costas, ela também espera conseguir deixar para trás as memórias roubadas de outros e criar suas próprias.\"\"\""
      ],
      "metadata": {
        "id": "Kk3XrIHl76bZ"
      },
      "execution_count": null,
      "outputs": []
    },
    {
      "cell_type": "code",
      "source": [
        "texto_original"
      ],
      "metadata": {
        "colab": {
          "base_uri": "https://localhost:8080/",
          "height": 145
        },
        "id": "i7vqFPsC8YjK",
        "outputId": "12732c98-4225-4ccf-a9c9-ea2c93c22e93"
      },
      "execution_count": null,
      "outputs": [
        {
          "output_type": "execute_result",
          "data": {
            "text/plain": [
              "'Por muito tempo, as origens de Ahri foram um mistério até para ela. A história da tribo vastaya desapareceu sem rastros, exceto pelo par de gemas idênticas que ela sempre teve consigo. As suas memórias mais antigas são de correr com raposas-do-gelo no norte de Shon-Xan. Ahri sabia que não era igual a elas, mas as raposas a viam como uma criatura próxima o bastante e a aceitaram na sua matilha.Naquela existência selvagem e predatória, Ahri sentia uma grande conexão com as florestas ao seu redor. Com o tempo, ela passou a entender que isso se devia à magia vastaya que pulsava em suas veias e ao reino espiritual que estava além de tudo aquilo. Sem ninguém para ensiná-la, ela acabou criando suas próprias formas de invocar esse poder, e costumava usá-lo para melhorar seus reflexos durante a caça. Também descobriu que era capaz de acalmar um cervo apavorado, deixando-o sereno e tranquilo enquanto ela e sua matilha o devoravam.O mundo dos mortais era tão distante e inquietante para Ahri quanto para as raposas, mas, por razões que ela não conseguia explicar, a atraía, especialmente os seres humanos, essas criaturas grosseiras e rudes… E quando um bando de caçadores acampava nas proximidades, ela os observava de longe em suas atividades terríveis.Certo dia, quando um foi ferido por uma flecha perdida, Ahri pôde sentir a vida dele se esvair. Ela instintivamente devorou sua essência, deixando apenas seu corpo, e absorveu breves flashes das lembranças dele; do amor que ele tinha perdido em combate, dos filhos que ele tinha deixado para trás quando veio para o norte. Sutilmente, ela transformou os medos dele em tristeza e, depois, em alegria, e o consolou com visões de um campo ensolarado em seu leito de morte.Em seguida, ela percebeu que era capaz de usar palavras humanas com facilidade, como se as lembrasse de um sonho. Foi então que entendeu que chegara a hora de deixar seu bando para trás.Mantendo-se à margem da sociedade, agora ela se sentia mais viva do que nunca. Sua natureza predatória permaneceu viva, mas ela se viu em um turbilhão de novas experiências, emoções e costumes por toda Ionia. Os mortais, por sua vez, também pareciam fascinados por ela, que usava isso em benefício próprio, sugando suas essências e encantando-os com visões de beleza, alucinações de anelos profundos e, às vezes, sonhos de pura tristeza.Ela se embriagava com memórias que não eram suas e se deliciava ao tomar suas vidas, mesmo sentindo a angústia e a tristeza de suas vítimas. Ela conheceu a dor da perda e a alegria em flashes perturbadores que a deixavam querendo mais. Tudo era muito intenso, mas sempre que tentava se afastar, ela sentia seu próprio poder diminuir e acabava voltando. Com o tempo, ela começou a ver a si mesma tal qual os mortais a viam: como um monstro.Até que, certo dia, um artista cruzou seu caminho e a viu curvada sobre um homem enquanto drenava sua vida. Em um momento no qual outros teriam fugido, ele permaneceu e ofereceu sua própria essência em troca do coração de Ahri. Pela primeira vez na vida, ela se deixou amar e ser amada, totalmente e por inteiro.Os dias passavam repletos de calor e risadas, e ela saciava a fome se alimentando de seu amado. Ela estava feliz de verdade... até que perdeu o controle e drenou seu amado por completo.Ela entrou em desespero, consumida pelo luto enquanto lamentava a perda da primeira e única pessoa que havia amado de verdade. A primeira e única pessoa que a havia amado de verdade. Ahri se afastou ainda mais da sociedade, se dedicou a aprender mais sobre sua origem, na esperança de que isso a ajudasse a controlar suas habilidades.Ela partiu em busca de outros como ela, levando consigo suas pedras solares. Uma jornada que a levaria para fora de Ionia e por toda Runeterra, fazendo-a descobrir seus ancestrais, os vesani, uma tribo vastaya que trouxe inovação e magia para o mundo antes de ser exterminada.Inspirada por suas memórias, Ahri partiu mundo afora em busca de mais vestígios dos Vesani. Ela espera dar continuidade ao seu legado, levando o bem para o mundo tal como eles fizeram. Sem o fardo de seus arrependimentos nas costas, ela também espera conseguir deixar para trás as memórias roubadas de outros e criar suas próprias.'"
            ],
            "application/vnd.google.colaboratory.intrinsic+json": {
              "type": "string"
            }
          },
          "metadata": {},
          "execution_count": 15
        }
      ]
    },
    {
      "cell_type": "code",
      "source": [
        "texto_original = re.sub(r'\\s+', ' ',texto_original)"
      ],
      "metadata": {
        "id": "_BB1EYGK8ae0"
      },
      "execution_count": null,
      "outputs": []
    },
    {
      "cell_type": "code",
      "source": [
        "texto_original"
      ],
      "metadata": {
        "colab": {
          "base_uri": "https://localhost:8080/",
          "height": 145
        },
        "id": "IebdpLrn84iI",
        "outputId": "e8713bae-8f1f-4050-ed87-145356d96449"
      },
      "execution_count": null,
      "outputs": [
        {
          "output_type": "execute_result",
          "data": {
            "text/plain": [
              "'Por muito tempo, as origens de Ahri foram um mistério até para ela. A história da tribo vastaya desapareceu sem rastros, exceto pelo par de gemas idênticas que ela sempre teve consigo. As suas memórias mais antigas são de correr com raposas-do-gelo no norte de Shon-Xan. Ahri sabia que não era igual a elas, mas as raposas a viam como uma criatura próxima o bastante e a aceitaram na sua matilha.Naquela existência selvagem e predatória, Ahri sentia uma grande conexão com as florestas ao seu redor. Com o tempo, ela passou a entender que isso se devia à magia vastaya que pulsava em suas veias e ao reino espiritual que estava além de tudo aquilo. Sem ninguém para ensiná-la, ela acabou criando suas próprias formas de invocar esse poder, e costumava usá-lo para melhorar seus reflexos durante a caça. Também descobriu que era capaz de acalmar um cervo apavorado, deixando-o sereno e tranquilo enquanto ela e sua matilha o devoravam.O mundo dos mortais era tão distante e inquietante para Ahri quanto para as raposas, mas, por razões que ela não conseguia explicar, a atraía, especialmente os seres humanos, essas criaturas grosseiras e rudes… E quando um bando de caçadores acampava nas proximidades, ela os observava de longe em suas atividades terríveis.Certo dia, quando um foi ferido por uma flecha perdida, Ahri pôde sentir a vida dele se esvair. Ela instintivamente devorou sua essência, deixando apenas seu corpo, e absorveu breves flashes das lembranças dele; do amor que ele tinha perdido em combate, dos filhos que ele tinha deixado para trás quando veio para o norte. Sutilmente, ela transformou os medos dele em tristeza e, depois, em alegria, e o consolou com visões de um campo ensolarado em seu leito de morte.Em seguida, ela percebeu que era capaz de usar palavras humanas com facilidade, como se as lembrasse de um sonho. Foi então que entendeu que chegara a hora de deixar seu bando para trás.Mantendo-se à margem da sociedade, agora ela se sentia mais viva do que nunca. Sua natureza predatória permaneceu viva, mas ela se viu em um turbilhão de novas experiências, emoções e costumes por toda Ionia. Os mortais, por sua vez, também pareciam fascinados por ela, que usava isso em benefício próprio, sugando suas essências e encantando-os com visões de beleza, alucinações de anelos profundos e, às vezes, sonhos de pura tristeza.Ela se embriagava com memórias que não eram suas e se deliciava ao tomar suas vidas, mesmo sentindo a angústia e a tristeza de suas vítimas. Ela conheceu a dor da perda e a alegria em flashes perturbadores que a deixavam querendo mais. Tudo era muito intenso, mas sempre que tentava se afastar, ela sentia seu próprio poder diminuir e acabava voltando. Com o tempo, ela começou a ver a si mesma tal qual os mortais a viam: como um monstro.Até que, certo dia, um artista cruzou seu caminho e a viu curvada sobre um homem enquanto drenava sua vida. Em um momento no qual outros teriam fugido, ele permaneceu e ofereceu sua própria essência em troca do coração de Ahri. Pela primeira vez na vida, ela se deixou amar e ser amada, totalmente e por inteiro.Os dias passavam repletos de calor e risadas, e ela saciava a fome se alimentando de seu amado. Ela estava feliz de verdade... até que perdeu o controle e drenou seu amado por completo.Ela entrou em desespero, consumida pelo luto enquanto lamentava a perda da primeira e única pessoa que havia amado de verdade. A primeira e única pessoa que a havia amado de verdade. Ahri se afastou ainda mais da sociedade, se dedicou a aprender mais sobre sua origem, na esperança de que isso a ajudasse a controlar suas habilidades.Ela partiu em busca de outros como ela, levando consigo suas pedras solares. Uma jornada que a levaria para fora de Ionia e por toda Runeterra, fazendo-a descobrir seus ancestrais, os vesani, uma tribo vastaya que trouxe inovação e magia para o mundo antes de ser exterminada.Inspirada por suas memórias, Ahri partiu mundo afora em busca de mais vestígios dos Vesani. Ela espera dar continuidade ao seu legado, levando o bem para o mundo tal como eles fizeram. Sem o fardo de seus arrependimentos nas costas, ela também espera conseguir deixar para trás as memórias roubadas de outros e criar suas próprias.'"
            ],
            "application/vnd.google.colaboratory.intrinsic+json": {
              "type": "string"
            }
          },
          "metadata": {},
          "execution_count": 49
        }
      ]
    },
    {
      "cell_type": "code",
      "source": [
        "nltk.download('punkt')"
      ],
      "metadata": {
        "colab": {
          "base_uri": "https://localhost:8080/"
        },
        "id": "LKWfBaXG81ij",
        "outputId": "0534a27f-9061-4643-b8ef-be34ff1e8596"
      },
      "execution_count": null,
      "outputs": [
        {
          "output_type": "stream",
          "name": "stderr",
          "text": [
            "[nltk_data] Downloading package punkt to /root/nltk_data...\n",
            "[nltk_data]   Unzipping tokenizers/punkt.zip.\n"
          ]
        },
        {
          "output_type": "execute_result",
          "data": {
            "text/plain": [
              "True"
            ]
          },
          "metadata": {},
          "execution_count": 16
        }
      ]
    },
    {
      "cell_type": "code",
      "source": [
        "nltk.download('stopwords')"
      ],
      "metadata": {
        "colab": {
          "base_uri": "https://localhost:8080/"
        },
        "id": "Fkdgq68U80eA",
        "outputId": "287a8d87-9f2d-48fc-ce30-1d62a56cbe08"
      },
      "execution_count": null,
      "outputs": [
        {
          "output_type": "stream",
          "name": "stderr",
          "text": [
            "[nltk_data] Downloading package stopwords to /root/nltk_data...\n",
            "[nltk_data]   Unzipping corpora/stopwords.zip.\n"
          ]
        },
        {
          "output_type": "execute_result",
          "data": {
            "text/plain": [
              "True"
            ]
          },
          "metadata": {},
          "execution_count": 22
        }
      ]
    },
    {
      "cell_type": "code",
      "source": [
        "stopwords = nltk.corpus.stopwords.words('portuguese')\n",
        "print(stopwords)"
      ],
      "metadata": {
        "colab": {
          "base_uri": "https://localhost:8080/"
        },
        "id": "kBjm4oiB9pWq",
        "outputId": "a6a47901-8c2d-45de-bd25-194e2f726f72"
      },
      "execution_count": null,
      "outputs": [
        {
          "output_type": "stream",
          "name": "stdout",
          "text": [
            "['a', 'à', 'ao', 'aos', 'aquela', 'aquelas', 'aquele', 'aqueles', 'aquilo', 'as', 'às', 'até', 'com', 'como', 'da', 'das', 'de', 'dela', 'delas', 'dele', 'deles', 'depois', 'do', 'dos', 'e', 'é', 'ela', 'elas', 'ele', 'eles', 'em', 'entre', 'era', 'eram', 'éramos', 'essa', 'essas', 'esse', 'esses', 'esta', 'está', 'estamos', 'estão', 'estar', 'estas', 'estava', 'estavam', 'estávamos', 'este', 'esteja', 'estejam', 'estejamos', 'estes', 'esteve', 'estive', 'estivemos', 'estiver', 'estivera', 'estiveram', 'estivéramos', 'estiverem', 'estivermos', 'estivesse', 'estivessem', 'estivéssemos', 'estou', 'eu', 'foi', 'fomos', 'for', 'fora', 'foram', 'fôramos', 'forem', 'formos', 'fosse', 'fossem', 'fôssemos', 'fui', 'há', 'haja', 'hajam', 'hajamos', 'hão', 'havemos', 'haver', 'hei', 'houve', 'houvemos', 'houver', 'houvera', 'houverá', 'houveram', 'houvéramos', 'houverão', 'houverei', 'houverem', 'houveremos', 'houveria', 'houveriam', 'houveríamos', 'houvermos', 'houvesse', 'houvessem', 'houvéssemos', 'isso', 'isto', 'já', 'lhe', 'lhes', 'mais', 'mas', 'me', 'mesmo', 'meu', 'meus', 'minha', 'minhas', 'muito', 'na', 'não', 'nas', 'nem', 'no', 'nos', 'nós', 'nossa', 'nossas', 'nosso', 'nossos', 'num', 'numa', 'o', 'os', 'ou', 'para', 'pela', 'pelas', 'pelo', 'pelos', 'por', 'qual', 'quando', 'que', 'quem', 'são', 'se', 'seja', 'sejam', 'sejamos', 'sem', 'ser', 'será', 'serão', 'serei', 'seremos', 'seria', 'seriam', 'seríamos', 'seu', 'seus', 'só', 'somos', 'sou', 'sua', 'suas', 'também', 'te', 'tem', 'tém', 'temos', 'tenha', 'tenham', 'tenhamos', 'tenho', 'terá', 'terão', 'terei', 'teremos', 'teria', 'teriam', 'teríamos', 'teu', 'teus', 'teve', 'tinha', 'tinham', 'tínhamos', 'tive', 'tivemos', 'tiver', 'tivera', 'tiveram', 'tivéramos', 'tiverem', 'tivermos', 'tivesse', 'tivessem', 'tivéssemos', 'tu', 'tua', 'tuas', 'um', 'uma', 'você', 'vocês', 'vos']\n"
          ]
        }
      ]
    },
    {
      "cell_type": "code",
      "source": [
        "len(stopwords)"
      ],
      "metadata": {
        "colab": {
          "base_uri": "https://localhost:8080/"
        },
        "id": "wih2CtNw9xZm",
        "outputId": "6b85d336-c07d-4ebc-a4ff-c8da5d45cba6"
      },
      "execution_count": null,
      "outputs": [
        {
          "output_type": "execute_result",
          "data": {
            "text/plain": [
              "207"
            ]
          },
          "metadata": {},
          "execution_count": 24
        }
      ]
    },
    {
      "cell_type": "code",
      "source": [
        "string.punctuation"
      ],
      "metadata": {
        "colab": {
          "base_uri": "https://localhost:8080/",
          "height": 36
        },
        "id": "6CfgAjZaANXr",
        "outputId": "f279deb9-2243-4db7-8570-5b7f73ef8844"
      },
      "execution_count": null,
      "outputs": [
        {
          "output_type": "execute_result",
          "data": {
            "text/plain": [
              "'!\"#$%&\\'()*+,-./:;<=>?@[\\\\]^_`{|}~'"
            ],
            "application/vnd.google.colaboratory.intrinsic+json": {
              "type": "string"
            }
          },
          "metadata": {},
          "execution_count": 25
        }
      ]
    },
    {
      "cell_type": "code",
      "source": [
        "def preprocessamento(texto):\n",
        "  texto_formatado = texto.lower()  #deixa todo o texto em minusculo\n",
        "  tokens = []\n",
        "  for token in nltk.word_tokenize(texto_formatado):\n",
        "    tokens.append(token)\n",
        "\n",
        "  #verifica cada palavra para separar os stopwords\n",
        "  #filtra as palavras stopword e coloca na variavel \"palavra\"\n",
        "  #no if verifica se a palavra nao é stopword e a mantem.\n",
        "  #remoção de pontuação \"palavra not in string.punctuation\"\n",
        "  tokens = [palavra for palavra in tokens if palavra not in stopwords and palavra not in string.punctuation]\n",
        "\n",
        "  #concatena palavras em formato de texto, inserindo espaço entre as palavras da variavel tokens\n",
        "  texto_formatado = ' '.join([str(elemento) for elemento in tokens if not elemento.isdigit()])\n",
        "\n",
        "  return texto_formatado"
      ],
      "metadata": {
        "id": "EuHkjSKsAPVv"
      },
      "execution_count": null,
      "outputs": []
    },
    {
      "cell_type": "code",
      "source": [
        "texto_formatado = preprocessamento(texto_original)\n",
        "texto_formatado"
      ],
      "metadata": {
        "colab": {
          "base_uri": "https://localhost:8080/",
          "height": 145
        },
        "id": "1192czcoEpAc",
        "outputId": "cb92e64f-cd37-406a-877f-327c7acd0afe"
      },
      "execution_count": null,
      "outputs": [
        {
          "output_type": "execute_result",
          "data": {
            "text/plain": [
              "'tempo origens ahri mistério história tribo vastaya desapareceu rastros exceto par gemas idênticas sempre consigo memórias antigas correr raposas-do-gelo norte shon-xan ahri sabia igual raposas viam criatura próxima bastante aceitaram matilha.naquela existência selvagem predatória ahri sentia grande conexão florestas redor tempo passou entender devia magia vastaya pulsava veias reino espiritual além tudo ninguém ensiná-la acabou criando próprias formas invocar poder costumava usá-lo melhorar reflexos durante caça descobriu capaz acalmar cervo apavorado deixando-o sereno tranquilo enquanto matilha devoravam.o mundo mortais tão distante inquietante ahri quanto raposas razões conseguia explicar atraía especialmente seres humanos criaturas grosseiras rudes… bando caçadores acampava proximidades observava longe atividades terríveis.certo dia ferido flecha perdida ahri pôde sentir vida esvair instintivamente devorou essência deixando apenas corpo absorveu breves flashes lembranças amor perdido combate filhos deixado trás veio norte sutilmente transformou medos tristeza alegria consolou visões campo ensolarado leito morte.em seguida percebeu capaz usar palavras humanas facilidade lembrasse sonho então entendeu chegara hora deixar bando trás.mantendo-se margem sociedade agora sentia viva nunca natureza predatória permaneceu viva viu turbilhão novas experiências emoções costumes toda ionia mortais vez pareciam fascinados usava benefício próprio sugando essências encantando-os visões beleza alucinações anelos profundos vezes sonhos pura tristeza.ela embriagava memórias deliciava tomar vidas sentindo angústia tristeza vítimas conheceu dor perda alegria flashes perturbadores deixavam querendo tudo intenso sempre tentava afastar sentia próprio poder diminuir acabava voltando tempo começou ver si mesma tal mortais viam monstro.até certo dia artista cruzou caminho viu curvada sobre homem enquanto drenava vida momento outros fugido permaneceu ofereceu própria essência troca coração ahri primeira vez vida deixou amar amada totalmente inteiro.os dias passavam repletos calor risadas saciava fome alimentando amado feliz verdade ... perdeu controle drenou amado completo.ela entrou desespero consumida luto enquanto lamentava perda primeira única pessoa havia amado verdade primeira única pessoa havia amado verdade ahri afastou ainda sociedade dedicou aprender sobre origem esperança ajudasse controlar habilidades.ela partiu busca outros levando consigo pedras solares jornada levaria ionia toda runeterra fazendo-a descobrir ancestrais vesani tribo vastaya trouxe inovação magia mundo antes exterminada.inspirada memórias ahri partiu mundo afora busca vestígios vesani espera dar continuidade legado levando bem mundo tal fizeram fardo arrependimentos costas espera conseguir deixar trás memórias roubadas outros criar próprias'"
            ],
            "application/vnd.google.colaboratory.intrinsic+json": {
              "type": "string"
            }
          },
          "metadata": {},
          "execution_count": 29
        }
      ]
    },
    {
      "cell_type": "code",
      "source": [
        "frequencia_palavras = nltk.FreqDist(nltk.word_tokenize(texto_formatado))\n",
        "frequencia_palavras"
      ],
      "metadata": {
        "colab": {
          "base_uri": "https://localhost:8080/"
        },
        "id": "uViZQ_FyE5hf",
        "outputId": "0c355259-04b1-43da-acd1-5084808f0e96"
      },
      "execution_count": null,
      "outputs": [
        {
          "output_type": "execute_result",
          "data": {
            "text/plain": [
              "FreqDist({'ahri': 8, 'memórias': 4, 'mundo': 4, 'amado': 4, 'tempo': 3, 'vastaya': 3, 'sentia': 3, 'enquanto': 3, 'mortais': 3, 'vida': 3, ...})"
            ]
          },
          "metadata": {},
          "execution_count": 30
        }
      ]
    },
    {
      "cell_type": "code",
      "source": [
        "frequencia_palavras['ahri']"
      ],
      "metadata": {
        "colab": {
          "base_uri": "https://localhost:8080/"
        },
        "id": "69z57D1DFHFJ",
        "outputId": "37fa8f5b-2fd8-4d13-a41e-e78dcac76f24"
      },
      "execution_count": null,
      "outputs": [
        {
          "output_type": "execute_result",
          "data": {
            "text/plain": [
              "8"
            ]
          },
          "metadata": {},
          "execution_count": 31
        }
      ]
    },
    {
      "cell_type": "code",
      "source": [
        "frequencia_palavras.keys()"
      ],
      "metadata": {
        "colab": {
          "base_uri": "https://localhost:8080/"
        },
        "id": "kuuCa-W-FPIF",
        "outputId": "1b7a5c32-516a-4dcf-97cb-1ed0676425b2"
      },
      "execution_count": null,
      "outputs": [
        {
          "output_type": "execute_result",
          "data": {
            "text/plain": [
              "dict_keys(['tempo', 'origens', 'ahri', 'mistério', 'história', 'tribo', 'vastaya', 'desapareceu', 'rastros', 'exceto', 'par', 'gemas', 'idênticas', 'sempre', 'consigo', 'memórias', 'antigas', 'correr', 'raposas-do-gelo', 'norte', 'shon-xan', 'sabia', 'igual', 'raposas', 'viam', 'criatura', 'próxima', 'bastante', 'aceitaram', 'matilha.naquela', 'existência', 'selvagem', 'predatória', 'sentia', 'grande', 'conexão', 'florestas', 'redor', 'passou', 'entender', 'devia', 'magia', 'pulsava', 'veias', 'reino', 'espiritual', 'além', 'tudo', 'ninguém', 'ensiná-la', 'acabou', 'criando', 'próprias', 'formas', 'invocar', 'poder', 'costumava', 'usá-lo', 'melhorar', 'reflexos', 'durante', 'caça', 'descobriu', 'capaz', 'acalmar', 'cervo', 'apavorado', 'deixando-o', 'sereno', 'tranquilo', 'enquanto', 'matilha', 'devoravam.o', 'mundo', 'mortais', 'tão', 'distante', 'inquietante', 'quanto', 'razões', 'conseguia', 'explicar', 'atraía', 'especialmente', 'seres', 'humanos', 'criaturas', 'grosseiras', 'rudes…', 'bando', 'caçadores', 'acampava', 'proximidades', 'observava', 'longe', 'atividades', 'terríveis.certo', 'dia', 'ferido', 'flecha', 'perdida', 'pôde', 'sentir', 'vida', 'esvair', 'instintivamente', 'devorou', 'essência', 'deixando', 'apenas', 'corpo', 'absorveu', 'breves', 'flashes', 'lembranças', 'amor', 'perdido', 'combate', 'filhos', 'deixado', 'trás', 'veio', 'sutilmente', 'transformou', 'medos', 'tristeza', 'alegria', 'consolou', 'visões', 'campo', 'ensolarado', 'leito', 'morte.em', 'seguida', 'percebeu', 'usar', 'palavras', 'humanas', 'facilidade', 'lembrasse', 'sonho', 'então', 'entendeu', 'chegara', 'hora', 'deixar', 'trás.mantendo-se', 'margem', 'sociedade', 'agora', 'viva', 'nunca', 'natureza', 'permaneceu', 'viu', 'turbilhão', 'novas', 'experiências', 'emoções', 'costumes', 'toda', 'ionia', 'vez', 'pareciam', 'fascinados', 'usava', 'benefício', 'próprio', 'sugando', 'essências', 'encantando-os', 'beleza', 'alucinações', 'anelos', 'profundos', 'vezes', 'sonhos', 'pura', 'tristeza.ela', 'embriagava', 'deliciava', 'tomar', 'vidas', 'sentindo', 'angústia', 'vítimas', 'conheceu', 'dor', 'perda', 'perturbadores', 'deixavam', 'querendo', 'intenso', 'tentava', 'afastar', 'diminuir', 'acabava', 'voltando', 'começou', 'ver', 'si', 'mesma', 'tal', 'monstro.até', 'certo', 'artista', 'cruzou', 'caminho', 'curvada', 'sobre', 'homem', 'drenava', 'momento', 'outros', 'fugido', 'ofereceu', 'própria', 'troca', 'coração', 'primeira', 'deixou', 'amar', 'amada', 'totalmente', 'inteiro.os', 'dias', 'passavam', 'repletos', 'calor', 'risadas', 'saciava', 'fome', 'alimentando', 'amado', 'feliz', 'verdade', '...', 'perdeu', 'controle', 'drenou', 'completo.ela', 'entrou', 'desespero', 'consumida', 'luto', 'lamentava', 'única', 'pessoa', 'havia', 'afastou', 'ainda', 'dedicou', 'aprender', 'origem', 'esperança', 'ajudasse', 'controlar', 'habilidades.ela', 'partiu', 'busca', 'levando', 'pedras', 'solares', 'jornada', 'levaria', 'runeterra', 'fazendo-a', 'descobrir', 'ancestrais', 'vesani', 'trouxe', 'inovação', 'antes', 'exterminada.inspirada', 'afora', 'vestígios', 'espera', 'dar', 'continuidade', 'legado', 'bem', 'fizeram', 'fardo', 'arrependimentos', 'costas', 'conseguir', 'roubadas', 'criar'])"
            ]
          },
          "metadata": {},
          "execution_count": 32
        }
      ]
    },
    {
      "cell_type": "code",
      "source": [
        "frequencia_maxima = max(frequencia_palavras.values())\n",
        "frequencia_maxima"
      ],
      "metadata": {
        "colab": {
          "base_uri": "https://localhost:8080/"
        },
        "id": "TB0i9rHPFSJy",
        "outputId": "db2bd4dc-54b1-4f48-a656-19de1b7e9f8f"
      },
      "execution_count": null,
      "outputs": [
        {
          "output_type": "execute_result",
          "data": {
            "text/plain": [
              "8"
            ]
          },
          "metadata": {},
          "execution_count": 33
        }
      ]
    },
    {
      "cell_type": "code",
      "source": [
        "for palavra in frequencia_palavras.keys():\n",
        "  frequencia_palavras[palavra] = (frequencia_palavras[palavra] / frequencia_maxima)"
      ],
      "metadata": {
        "id": "wbEqX_uCFasD"
      },
      "execution_count": null,
      "outputs": []
    },
    {
      "cell_type": "code",
      "source": [
        "frequencia_palavras"
      ],
      "metadata": {
        "colab": {
          "base_uri": "https://localhost:8080/"
        },
        "id": "XSPgIYS8Fl-R",
        "outputId": "1a3c6a8d-ea40-4143-fe4b-5c862c5aba66"
      },
      "execution_count": null,
      "outputs": [
        {
          "output_type": "execute_result",
          "data": {
            "text/plain": [
              "FreqDist({'ahri': 1.0, 'memórias': 0.5, 'mundo': 0.5, 'amado': 0.5, 'tempo': 0.375, 'vastaya': 0.375, 'sentia': 0.375, 'enquanto': 0.375, 'mortais': 0.375, 'vida': 0.375, ...})"
            ]
          },
          "metadata": {},
          "execution_count": 35
        }
      ]
    },
    {
      "cell_type": "code",
      "source": [
        "lista_sentencas = nltk.sent_tokenize(texto_original)\n",
        "lista_sentencas"
      ],
      "metadata": {
        "colab": {
          "base_uri": "https://localhost:8080/"
        },
        "id": "ckSkk6VdFnU1",
        "outputId": "8a249039-366a-42a7-9c57-84726d45f956"
      },
      "execution_count": null,
      "outputs": [
        {
          "output_type": "execute_result",
          "data": {
            "text/plain": [
              "['Por muito tempo, as origens de Ahri foram um mistério até para ela.',\n",
              " 'A história da tribo vastaya desapareceu sem rastros, exceto pelo par de gemas idênticas que ela sempre teve consigo.',\n",
              " 'As suas memórias mais antigas são de correr com raposas-do-gelo no norte de Shon-Xan.',\n",
              " 'Ahri sabia que não era igual a elas, mas as raposas a viam como uma criatura próxima o bastante e a aceitaram na sua matilha.Naquela existência selvagem e predatória, Ahri sentia uma grande conexão com as florestas ao seu redor.',\n",
              " 'Com o tempo, ela passou a entender que isso se devia à magia vastaya que pulsava em suas veias e ao reino espiritual que estava além de tudo aquilo.',\n",
              " 'Sem ninguém para ensiná-la, ela acabou criando suas próprias formas de invocar esse poder, e costumava usá-lo para melhorar seus reflexos durante a caça.',\n",
              " 'Também descobriu que era capaz de acalmar um cervo apavorado, deixando-o sereno e tranquilo enquanto ela e sua matilha o devoravam.O mundo dos mortais era tão distante e inquietante para Ahri quanto para as raposas, mas, por razões que ela não conseguia explicar, a atraía, especialmente os seres humanos, essas criaturas grosseiras e rudes… E quando um bando de caçadores acampava nas proximidades, ela os observava de longe em suas atividades terríveis.Certo dia, quando um foi ferido por uma flecha perdida, Ahri pôde sentir a vida dele se esvair.',\n",
              " 'Ela instintivamente devorou sua essência, deixando apenas seu corpo, e absorveu breves flashes das lembranças dele; do amor que ele tinha perdido em combate, dos filhos que ele tinha deixado para trás quando veio para o norte.',\n",
              " 'Sutilmente, ela transformou os medos dele em tristeza e, depois, em alegria, e o consolou com visões de um campo ensolarado em seu leito de morte.Em seguida, ela percebeu que era capaz de usar palavras humanas com facilidade, como se as lembrasse de um sonho.',\n",
              " 'Foi então que entendeu que chegara a hora de deixar seu bando para trás.Mantendo-se à margem da sociedade, agora ela se sentia mais viva do que nunca.',\n",
              " 'Sua natureza predatória permaneceu viva, mas ela se viu em um turbilhão de novas experiências, emoções e costumes por toda Ionia.',\n",
              " 'Os mortais, por sua vez, também pareciam fascinados por ela, que usava isso em benefício próprio, sugando suas essências e encantando-os com visões de beleza, alucinações de anelos profundos e, às vezes, sonhos de pura tristeza.Ela se embriagava com memórias que não eram suas e se deliciava ao tomar suas vidas, mesmo sentindo a angústia e a tristeza de suas vítimas.',\n",
              " 'Ela conheceu a dor da perda e a alegria em flashes perturbadores que a deixavam querendo mais.',\n",
              " 'Tudo era muito intenso, mas sempre que tentava se afastar, ela sentia seu próprio poder diminuir e acabava voltando.',\n",
              " 'Com o tempo, ela começou a ver a si mesma tal qual os mortais a viam: como um monstro.Até que, certo dia, um artista cruzou seu caminho e a viu curvada sobre um homem enquanto drenava sua vida.',\n",
              " 'Em um momento no qual outros teriam fugido, ele permaneceu e ofereceu sua própria essência em troca do coração de Ahri.',\n",
              " 'Pela primeira vez na vida, ela se deixou amar e ser amada, totalmente e por inteiro.Os dias passavam repletos de calor e risadas, e ela saciava a fome se alimentando de seu amado.',\n",
              " 'Ela estava feliz de verdade... até que perdeu o controle e drenou seu amado por completo.Ela entrou em desespero, consumida pelo luto enquanto lamentava a perda da primeira e única pessoa que havia amado de verdade.',\n",
              " 'A primeira e única pessoa que a havia amado de verdade.',\n",
              " 'Ahri se afastou ainda mais da sociedade, se dedicou a aprender mais sobre sua origem, na esperança de que isso a ajudasse a controlar suas habilidades.Ela partiu em busca de outros como ela, levando consigo suas pedras solares.',\n",
              " 'Uma jornada que a levaria para fora de Ionia e por toda Runeterra, fazendo-a descobrir seus ancestrais, os vesani, uma tribo vastaya que trouxe inovação e magia para o mundo antes de ser exterminada.Inspirada por suas memórias, Ahri partiu mundo afora em busca de mais vestígios dos Vesani.',\n",
              " 'Ela espera dar continuidade ao seu legado, levando o bem para o mundo tal como eles fizeram.',\n",
              " 'Sem o fardo de seus arrependimentos nas costas, ela também espera conseguir deixar para trás as memórias roubadas de outros e criar suas próprias.']"
            ]
          },
          "metadata": {},
          "execution_count": 36
        }
      ]
    },
    {
      "cell_type": "code",
      "source": [
        "frequencia_palavras"
      ],
      "metadata": {
        "colab": {
          "base_uri": "https://localhost:8080/"
        },
        "id": "oWrDy3mAFxNk",
        "outputId": "c1d61f38-1e84-4bb0-e015-54e5c4d3f7ca"
      },
      "execution_count": null,
      "outputs": [
        {
          "output_type": "execute_result",
          "data": {
            "text/plain": [
              "FreqDist({'ahri': 1.0, 'memórias': 0.5, 'mundo': 0.5, 'amado': 0.5, 'tempo': 0.375, 'vastaya': 0.375, 'sentia': 0.375, 'enquanto': 0.375, 'mortais': 0.375, 'vida': 0.375, ...})"
            ]
          },
          "metadata": {},
          "execution_count": 37
        }
      ]
    },
    {
      "cell_type": "code",
      "source": [
        "nota_sentencas = {}\n",
        "for sentenca in lista_sentencas:\n",
        "\n",
        "  for palavra in nltk.word_tokenize(sentenca.lower()):\n",
        "\n",
        "    if palavra in frequencia_palavras.keys():\n",
        "\n",
        "      if sentenca not in nota_sentencas.keys():\n",
        "        nota_sentencas[sentenca] = frequencia_palavras[palavra]\n",
        "\n",
        "      else:\n",
        "        nota_sentencas[sentenca] += frequencia_palavras[palavra]"
      ],
      "metadata": {
        "id": "LNZ65SPhF27H"
      },
      "execution_count": null,
      "outputs": []
    },
    {
      "cell_type": "code",
      "source": [
        "nota_sentencas"
      ],
      "metadata": {
        "colab": {
          "base_uri": "https://localhost:8080/"
        },
        "id": "seobr48iGX0C",
        "outputId": "1338bb7a-1c21-4a0c-e6c2-1c7c835a3823"
      },
      "execution_count": null,
      "outputs": [
        {
          "output_type": "execute_result",
          "data": {
            "text/plain": [
              "{'Por muito tempo, as origens de Ahri foram um mistério até para ela.': 1.625,\n",
              " 'A história da tribo vastaya desapareceu sem rastros, exceto pelo par de gemas idênticas que ela sempre teve consigo.': 2.0,\n",
              " 'As suas memórias mais antigas são de correr com raposas-do-gelo no norte de Shon-Xan.': 1.25,\n",
              " 'Ahri sabia que não era igual a elas, mas as raposas a viam como uma criatura próxima o bastante e a aceitaram na sua matilha.Naquela existência selvagem e predatória, Ahri sentia uma grande conexão com as florestas ao seu redor.': 4.75,\n",
              " 'Com o tempo, ela passou a entender que isso se devia à magia vastaya que pulsava em suas veias e ao reino espiritual que estava além de tudo aquilo.': 2.25,\n",
              " 'Sem ninguém para ensiná-la, ela acabou criando suas próprias formas de invocar esse poder, e costumava usá-lo para melhorar seus reflexos durante a caça.': 2.0,\n",
              " 'Também descobriu que era capaz de acalmar um cervo apavorado, deixando-o sereno e tranquilo enquanto ela e sua matilha o devoravam.O mundo dos mortais era tão distante e inquietante para Ahri quanto para as raposas, mas, por razões que ela não conseguia explicar, a atraía, especialmente os seres humanos, essas criaturas grosseiras e rudes… E quando um bando de caçadores acampava nas proximidades, ela os observava de longe em suas atividades terríveis.Certo dia, quando um foi ferido por uma flecha perdida, Ahri pôde sentir a vida dele se esvair.': 9.125,\n",
              " 'Ela instintivamente devorou sua essência, deixando apenas seu corpo, e absorveu breves flashes das lembranças dele; do amor que ele tinha perdido em combate, dos filhos que ele tinha deixado para trás quando veio para o norte.': 2.75,\n",
              " 'Sutilmente, ela transformou os medos dele em tristeza e, depois, em alegria, e o consolou com visões de um campo ensolarado em seu leito de morte.Em seguida, ela percebeu que era capaz de usar palavras humanas com facilidade, como se as lembrasse de um sonho.': 3.0,\n",
              " 'Foi então que entendeu que chegara a hora de deixar seu bando para trás.Mantendo-se à margem da sociedade, agora ela se sentia mais viva do que nunca.': 2.375,\n",
              " 'Sua natureza predatória permaneceu viva, mas ela se viu em um turbilhão de novas experiências, emoções e costumes por toda Ionia.': 2.25,\n",
              " 'Os mortais, por sua vez, também pareciam fascinados por ela, que usava isso em benefício próprio, sugando suas essências e encantando-os com visões de beleza, alucinações de anelos profundos e, às vezes, sonhos de pura tristeza.Ela se embriagava com memórias que não eram suas e se deliciava ao tomar suas vidas, mesmo sentindo a angústia e a tristeza de suas vítimas.': 4.625,\n",
              " 'Ela conheceu a dor da perda e a alegria em flashes perturbadores que a deixavam querendo mais.': 1.375,\n",
              " 'Tudo era muito intenso, mas sempre que tentava se afastar, ela sentia seu próprio poder diminuir e acabava voltando.': 2.125,\n",
              " 'Com o tempo, ela começou a ver a si mesma tal qual os mortais a viam: como um monstro.Até que, certo dia, um artista cruzou seu caminho e a viu curvada sobre um homem enquanto drenava sua vida.': 4.25,\n",
              " 'Em um momento no qual outros teriam fugido, ele permaneceu e ofereceu sua própria essência em troca do coração de Ahri.': 2.625,\n",
              " 'Pela primeira vez na vida, ela se deixou amar e ser amada, totalmente e por inteiro.Os dias passavam repletos de calor e risadas, e ela saciava a fome se alimentando de seu amado.': 3.125,\n",
              " 'Ela estava feliz de verdade... até que perdeu o controle e drenou seu amado por completo.Ela entrou em desespero, consumida pelo luto enquanto lamentava a perda da primeira e única pessoa que havia amado de verdade.': 4.875,\n",
              " 'A primeira e única pessoa que a havia amado de verdade.': 2.0,\n",
              " 'Ahri se afastou ainda mais da sociedade, se dedicou a aprender mais sobre sua origem, na esperança de que isso a ajudasse a controlar suas habilidades.Ela partiu em busca de outros como ela, levando consigo suas pedras solares.': 4.25,\n",
              " 'Uma jornada que a levaria para fora de Ionia e por toda Runeterra, fazendo-a descobrir seus ancestrais, os vesani, uma tribo vastaya que trouxe inovação e magia para o mundo antes de ser exterminada.Inspirada por suas memórias, Ahri partiu mundo afora em busca de mais vestígios dos Vesani.': 6.375,\n",
              " 'Ela espera dar continuidade ao seu legado, levando o bem para o mundo tal como eles fizeram.': 1.875,\n",
              " 'Sem o fardo de seus arrependimentos nas costas, ela também espera conseguir deixar para trás as memórias roubadas de outros e criar suas próprias.': 2.625}"
            ]
          },
          "metadata": {},
          "execution_count": 39
        }
      ]
    },
    {
      "cell_type": "code",
      "source": [
        "import heapq\n",
        "melhores_sentencas = heapq.nlargest(5,nota_sentencas,key=nota_sentencas.get)"
      ],
      "metadata": {
        "id": "yV42NdteGZdr"
      },
      "execution_count": null,
      "outputs": []
    },
    {
      "cell_type": "code",
      "source": [
        "melhores_sentencas"
      ],
      "metadata": {
        "colab": {
          "base_uri": "https://localhost:8080/"
        },
        "id": "6siOY_w7GjkJ",
        "outputId": "678e6902-d8d1-468b-c16a-675942998506"
      },
      "execution_count": null,
      "outputs": [
        {
          "output_type": "execute_result",
          "data": {
            "text/plain": [
              "['Também descobriu que era capaz de acalmar um cervo apavorado, deixando-o sereno e tranquilo enquanto ela e sua matilha o devoravam.O mundo dos mortais era tão distante e inquietante para Ahri quanto para as raposas, mas, por razões que ela não conseguia explicar, a atraía, especialmente os seres humanos, essas criaturas grosseiras e rudes… E quando um bando de caçadores acampava nas proximidades, ela os observava de longe em suas atividades terríveis.Certo dia, quando um foi ferido por uma flecha perdida, Ahri pôde sentir a vida dele se esvair.',\n",
              " 'Uma jornada que a levaria para fora de Ionia e por toda Runeterra, fazendo-a descobrir seus ancestrais, os vesani, uma tribo vastaya que trouxe inovação e magia para o mundo antes de ser exterminada.Inspirada por suas memórias, Ahri partiu mundo afora em busca de mais vestígios dos Vesani.',\n",
              " 'Ela estava feliz de verdade... até que perdeu o controle e drenou seu amado por completo.Ela entrou em desespero, consumida pelo luto enquanto lamentava a perda da primeira e única pessoa que havia amado de verdade.',\n",
              " 'Ahri sabia que não era igual a elas, mas as raposas a viam como uma criatura próxima o bastante e a aceitaram na sua matilha.Naquela existência selvagem e predatória, Ahri sentia uma grande conexão com as florestas ao seu redor.',\n",
              " 'Os mortais, por sua vez, também pareciam fascinados por ela, que usava isso em benefício próprio, sugando suas essências e encantando-os com visões de beleza, alucinações de anelos profundos e, às vezes, sonhos de pura tristeza.Ela se embriagava com memórias que não eram suas e se deliciava ao tomar suas vidas, mesmo sentindo a angústia e a tristeza de suas vítimas.']"
            ]
          },
          "metadata": {},
          "execution_count": 54
        }
      ]
    },
    {
      "cell_type": "code",
      "source": [
        "resumo = ' '.join(melhores_sentencas)\n",
        "resumo"
      ],
      "metadata": {
        "colab": {
          "base_uri": "https://localhost:8080/",
          "height": 145
        },
        "id": "LxXVMdr-Gk53",
        "outputId": "76fbcedc-ce1d-45a1-c60c-e26f12742fa4"
      },
      "execution_count": null,
      "outputs": [
        {
          "output_type": "execute_result",
          "data": {
            "text/plain": [
              "'Também descobriu que era capaz de acalmar um cervo apavorado, deixando-o sereno e tranquilo enquanto ela e sua matilha o devoravam.O mundo dos mortais era tão distante e inquietante para Ahri quanto para as raposas, mas, por razões que ela não conseguia explicar, a atraía, especialmente os seres humanos, essas criaturas grosseiras e rudes… E quando um bando de caçadores acampava nas proximidades, ela os observava de longe em suas atividades terríveis.Certo dia, quando um foi ferido por uma flecha perdida, Ahri pôde sentir a vida dele se esvair. Uma jornada que a levaria para fora de Ionia e por toda Runeterra, fazendo-a descobrir seus ancestrais, os vesani, uma tribo vastaya que trouxe inovação e magia para o mundo antes de ser exterminada.Inspirada por suas memórias, Ahri partiu mundo afora em busca de mais vestígios dos Vesani. Ela estava feliz de verdade... até que perdeu o controle e drenou seu amado por completo.Ela entrou em desespero, consumida pelo luto enquanto lamentava a perda da primeira e única pessoa que havia amado de verdade. Ahri sabia que não era igual a elas, mas as raposas a viam como uma criatura próxima o bastante e a aceitaram na sua matilha.Naquela existência selvagem e predatória, Ahri sentia uma grande conexão com as florestas ao seu redor. Os mortais, por sua vez, também pareciam fascinados por ela, que usava isso em benefício próprio, sugando suas essências e encantando-os com visões de beleza, alucinações de anelos profundos e, às vezes, sonhos de pura tristeza.Ela se embriagava com memórias que não eram suas e se deliciava ao tomar suas vidas, mesmo sentindo a angústia e a tristeza de suas vítimas.'"
            ],
            "application/vnd.google.colaboratory.intrinsic+json": {
              "type": "string"
            }
          },
          "metadata": {},
          "execution_count": 56
        }
      ]
    },
    {
      "cell_type": "code",
      "source": [
        "texto_original"
      ],
      "metadata": {
        "colab": {
          "base_uri": "https://localhost:8080/",
          "height": 145
        },
        "id": "8RZq5k7ZGqiN",
        "outputId": "6bf7a9c9-491c-4d5e-d678-494b49a02f86"
      },
      "execution_count": null,
      "outputs": [
        {
          "output_type": "execute_result",
          "data": {
            "text/plain": [
              "'Por muito tempo, as origens de Ahri foram um mistério até para ela. A história da tribo vastaya desapareceu sem rastros, exceto pelo par de gemas idênticas que ela sempre teve consigo. As suas memórias mais antigas são de correr com raposas-do-gelo no norte de Shon-Xan. Ahri sabia que não era igual a elas, mas as raposas a viam como uma criatura próxima o bastante e a aceitaram na sua matilha.Naquela existência selvagem e predatória, Ahri sentia uma grande conexão com as florestas ao seu redor. Com o tempo, ela passou a entender que isso se devia à magia vastaya que pulsava em suas veias e ao reino espiritual que estava além de tudo aquilo. Sem ninguém para ensiná-la, ela acabou criando suas próprias formas de invocar esse poder, e costumava usá-lo para melhorar seus reflexos durante a caça. Também descobriu que era capaz de acalmar um cervo apavorado, deixando-o sereno e tranquilo enquanto ela e sua matilha o devoravam.O mundo dos mortais era tão distante e inquietante para Ahri quanto para as raposas, mas, por razões que ela não conseguia explicar, a atraía, especialmente os seres humanos, essas criaturas grosseiras e rudes… E quando um bando de caçadores acampava nas proximidades, ela os observava de longe em suas atividades terríveis.Certo dia, quando um foi ferido por uma flecha perdida, Ahri pôde sentir a vida dele se esvair. Ela instintivamente devorou sua essência, deixando apenas seu corpo, e absorveu breves flashes das lembranças dele; do amor que ele tinha perdido em combate, dos filhos que ele tinha deixado para trás quando veio para o norte. Sutilmente, ela transformou os medos dele em tristeza e, depois, em alegria, e o consolou com visões de um campo ensolarado em seu leito de morte.Em seguida, ela percebeu que era capaz de usar palavras humanas com facilidade, como se as lembrasse de um sonho. Foi então que entendeu que chegara a hora de deixar seu bando para trás.Mantendo-se à margem da sociedade, agora ela se sentia mais viva do que nunca. Sua natureza predatória permaneceu viva, mas ela se viu em um turbilhão de novas experiências, emoções e costumes por toda Ionia. Os mortais, por sua vez, também pareciam fascinados por ela, que usava isso em benefício próprio, sugando suas essências e encantando-os com visões de beleza, alucinações de anelos profundos e, às vezes, sonhos de pura tristeza.Ela se embriagava com memórias que não eram suas e se deliciava ao tomar suas vidas, mesmo sentindo a angústia e a tristeza de suas vítimas. Ela conheceu a dor da perda e a alegria em flashes perturbadores que a deixavam querendo mais. Tudo era muito intenso, mas sempre que tentava se afastar, ela sentia seu próprio poder diminuir e acabava voltando. Com o tempo, ela começou a ver a si mesma tal qual os mortais a viam: como um monstro.Até que, certo dia, um artista cruzou seu caminho e a viu curvada sobre um homem enquanto drenava sua vida. Em um momento no qual outros teriam fugido, ele permaneceu e ofereceu sua própria essência em troca do coração de Ahri. Pela primeira vez na vida, ela se deixou amar e ser amada, totalmente e por inteiro.Os dias passavam repletos de calor e risadas, e ela saciava a fome se alimentando de seu amado. Ela estava feliz de verdade... até que perdeu o controle e drenou seu amado por completo.Ela entrou em desespero, consumida pelo luto enquanto lamentava a perda da primeira e única pessoa que havia amado de verdade. A primeira e única pessoa que a havia amado de verdade. Ahri se afastou ainda mais da sociedade, se dedicou a aprender mais sobre sua origem, na esperança de que isso a ajudasse a controlar suas habilidades.Ela partiu em busca de outros como ela, levando consigo suas pedras solares. Uma jornada que a levaria para fora de Ionia e por toda Runeterra, fazendo-a descobrir seus ancestrais, os vesani, uma tribo vastaya que trouxe inovação e magia para o mundo antes de ser exterminada.Inspirada por suas memórias, Ahri partiu mundo afora em busca de mais vestígios dos Vesani. Ela espera dar continuidade ao seu legado, levando o bem para o mundo tal como eles fizeram. Sem o fardo de seus arrependimentos nas costas, ela também espera conseguir deixar para trás as memórias roubadas de outros e criar suas próprias.'"
            ],
            "application/vnd.google.colaboratory.intrinsic+json": {
              "type": "string"
            }
          },
          "metadata": {},
          "execution_count": 57
        }
      ]
    },
    {
      "cell_type": "code",
      "source": [
        "from IPython.core.display import HTML\n",
        "texto = ''\n",
        "\n",
        "display(HTML(f'<h1>Resumo do texto</h1>'))\n",
        "for sentenca in lista_sentencas:\n",
        "  if sentenca in melhores_sentencas:\n",
        "    texto += str(sentenca).replace(sentenca,f\"<mark>{sentenca}</mark>\")\n",
        "  else:\n",
        "    texto += sentenca\n",
        "display(HTML(f\"\"\"{texto}\"\"\"))"
      ],
      "metadata": {
        "colab": {
          "base_uri": "https://localhost:8080/",
          "height": 508
        },
        "id": "ijjEwNmwGvF1",
        "outputId": "a90c0f0b-dfd9-4a0f-99f9-8f13d409603e"
      },
      "execution_count": null,
      "outputs": [
        {
          "output_type": "display_data",
          "data": {
            "text/plain": [
              "<IPython.core.display.HTML object>"
            ],
            "text/html": [
              "<h1>Resumo do texto</h1>"
            ]
          },
          "metadata": {}
        },
        {
          "output_type": "display_data",
          "data": {
            "text/plain": [
              "<IPython.core.display.HTML object>"
            ],
            "text/html": [
              "Por muito tempo, as origens de Ahri foram um mistério até para ela.A história da tribo vastaya desapareceu sem rastros, exceto pelo par de gemas idênticas que ela sempre teve consigo.As suas memórias mais antigas são de correr com raposas-do-gelo no norte de Shon-Xan.<mark>Ahri sabia que não era igual a elas, mas as raposas a viam como uma criatura próxima o bastante e a aceitaram na sua matilha.Naquela existência selvagem e predatória, Ahri sentia uma grande conexão com as florestas ao seu redor.</mark>Com o tempo, ela passou a entender que isso se devia à magia vastaya que pulsava em suas veias e ao reino espiritual que estava além de tudo aquilo.Sem ninguém para ensiná-la, ela acabou criando suas próprias formas de invocar esse poder, e costumava usá-lo para melhorar seus reflexos durante a caça.<mark>Também descobriu que era capaz de acalmar um cervo apavorado, deixando-o sereno e tranquilo enquanto ela e sua matilha o devoravam.O mundo dos mortais era tão distante e inquietante para Ahri quanto para as raposas, mas, por razões que ela não conseguia explicar, a atraía, especialmente os seres humanos, essas criaturas grosseiras e rudes… E quando um bando de caçadores acampava nas proximidades, ela os observava de longe em suas atividades terríveis.Certo dia, quando um foi ferido por uma flecha perdida, Ahri pôde sentir a vida dele se esvair.</mark>Ela instintivamente devorou sua essência, deixando apenas seu corpo, e absorveu breves flashes das lembranças dele; do amor que ele tinha perdido em combate, dos filhos que ele tinha deixado para trás quando veio para o norte.Sutilmente, ela transformou os medos dele em tristeza e, depois, em alegria, e o consolou com visões de um campo ensolarado em seu leito de morte.Em seguida, ela percebeu que era capaz de usar palavras humanas com facilidade, como se as lembrasse de um sonho.Foi então que entendeu que chegara a hora de deixar seu bando para trás.Mantendo-se à margem da sociedade, agora ela se sentia mais viva do que nunca.Sua natureza predatória permaneceu viva, mas ela se viu em um turbilhão de novas experiências, emoções e costumes por toda Ionia.<mark>Os mortais, por sua vez, também pareciam fascinados por ela, que usava isso em benefício próprio, sugando suas essências e encantando-os com visões de beleza, alucinações de anelos profundos e, às vezes, sonhos de pura tristeza.Ela se embriagava com memórias que não eram suas e se deliciava ao tomar suas vidas, mesmo sentindo a angústia e a tristeza de suas vítimas.</mark>Ela conheceu a dor da perda e a alegria em flashes perturbadores que a deixavam querendo mais.Tudo era muito intenso, mas sempre que tentava se afastar, ela sentia seu próprio poder diminuir e acabava voltando.Com o tempo, ela começou a ver a si mesma tal qual os mortais a viam: como um monstro.Até que, certo dia, um artista cruzou seu caminho e a viu curvada sobre um homem enquanto drenava sua vida.Em um momento no qual outros teriam fugido, ele permaneceu e ofereceu sua própria essência em troca do coração de Ahri.Pela primeira vez na vida, ela se deixou amar e ser amada, totalmente e por inteiro.Os dias passavam repletos de calor e risadas, e ela saciava a fome se alimentando de seu amado.<mark>Ela estava feliz de verdade... até que perdeu o controle e drenou seu amado por completo.Ela entrou em desespero, consumida pelo luto enquanto lamentava a perda da primeira e única pessoa que havia amado de verdade.</mark>A primeira e única pessoa que a havia amado de verdade.Ahri se afastou ainda mais da sociedade, se dedicou a aprender mais sobre sua origem, na esperança de que isso a ajudasse a controlar suas habilidades.Ela partiu em busca de outros como ela, levando consigo suas pedras solares.<mark>Uma jornada que a levaria para fora de Ionia e por toda Runeterra, fazendo-a descobrir seus ancestrais, os vesani, uma tribo vastaya que trouxe inovação e magia para o mundo antes de ser exterminada.Inspirada por suas memórias, Ahri partiu mundo afora em busca de mais vestígios dos Vesani.</mark>Ela espera dar continuidade ao seu legado, levando o bem para o mundo tal como eles fizeram.Sem o fardo de seus arrependimentos nas costas, ela também espera conseguir deixar para trás as memórias roubadas de outros e criar suas próprias."
            ]
          },
          "metadata": {}
        }
      ]
    }
  ]
}