{
  "nbformat": 4,
  "nbformat_minor": 0,
  "metadata": {
    "colab": {
      "provenance": [],
      "authorship_tag": "ABX9TyO+e20SfUyE67qZTQZb5IKg",
      "include_colab_link": true
    },
    "kernelspec": {
      "name": "python3",
      "display_name": "Python 3"
    },
    "language_info": {
      "name": "python"
    }
  },
  "cells": [
    {
      "cell_type": "markdown",
      "metadata": {
        "id": "view-in-github",
        "colab_type": "text"
      },
      "source": [
        "<a href=\"https://colab.research.google.com/github/EdmarBortoletto/Ciencias-de-Dados/blob/main/Similaridades_Cosseno%2C_Euclidiana%2C_Manhattan_.ipynb\" target=\"_parent\"><img src=\"https://colab.research.google.com/assets/colab-badge.svg\" alt=\"Open In Colab\"/></a>"
      ]
    },
    {
      "cell_type": "code",
      "execution_count": null,
      "metadata": {
        "id": "b4Lt4nr5aKha"
      },
      "outputs": [],
      "source": [
        "import numpy as np\n",
        "from sklearn.feature_extraction.text import TfidfVectorizer\n",
        "from sklearn.metrics.pairwise import cosine_similarity\n",
        "from sklearn.metrics.pairwise import euclidean_distances\n",
        "from sklearn.metrics.pairwise import manhattan_distances"
      ]
    },
    {
      "cell_type": "markdown",
      "source": [
        "\n",
        "Exemplo de documentos"
      ],
      "metadata": {
        "id": "eSIJwB9BdAwY"
      }
    },
    {
      "cell_type": "code",
      "source": [
        "documents = [\"Cano é eleito jogador do ano\",\n",
        "             \"Novas regras no volleybal entra em vigor em 2025\",\n",
        "             \"Ladrão rouba carro e deixa ferido\",\n",
        "             \"Aprenda a fazer receita de macarrão ao molho madeira\",\n",
        "             \"Palmeiras vence o Ituano por 1 a 0 e vai a final do paulista\",\n",
        "             \"Receita de escondidinho de carne seca com abacaxi\",\n",
        "             \"Plano para atacar Moro custou 1.2 milhões\",\n",
        "             \"Lula concede aumento nos salários dos aposentados\",\n",
        "             \"Messi discursa para torcida após 2 a 0 sobre Panamá\",\n",
        "             \"Ostentaçao e ate cão armado:como era a vida no rio de traficantes de outros estados\",\n",
        "             \"Os estadios da copa do mundo\"]"
      ],
      "metadata": {
        "id": "FYhXgxIIcqpw"
      },
      "execution_count": null,
      "outputs": []
    },
    {
      "cell_type": "code",
      "source": [
        "vectorizer = TfidfVectorizer()"
      ],
      "metadata": {
        "id": "3bSBtN-xe5j3"
      },
      "execution_count": null,
      "outputs": []
    },
    {
      "cell_type": "code",
      "source": [
        "#calculando a matriz Tf-IDF\n",
        "X = vectorizer.fit_transform(documents)"
      ],
      "metadata": {
        "id": "zzCRMnObrh-U"
      },
      "execution_count": null,
      "outputs": []
    },
    {
      "cell_type": "code",
      "source": [
        "similaridade = cosine_similarity(X)"
      ],
      "metadata": {
        "id": "gda9IPl3rrt7"
      },
      "execution_count": null,
      "outputs": []
    },
    {
      "cell_type": "code",
      "source": [
        "noticia = 0 #indice da primeira noticia\n",
        "similaridades_primeira = similaridade[noticia]\n",
        "ranking_similaridades = np.argsort(similaridades_primeira)[::-1] #indices das similaridades ordenadas"
      ],
      "metadata": {
        "id": "UbypfC8DsRpp"
      },
      "execution_count": null,
      "outputs": []
    },
    {
      "cell_type": "code",
      "source": [
        "#imprima as 2 noticias mais similares a primeira\n",
        "print('Similaridade do cosseno')\n",
        "for i in range(1, 3):\n",
        "  indice_noticia_similar = ranking_similaridades[i]\n",
        "  similaridade_noticia = similaridades_primeira[indice_noticia_similar]\n",
        "  print(f\"Noticia{indice_noticia_similar + 1}: Similaridade de {similaridade_noticia:.2f}\")\n",
        "  print(f\"Texto: {documents[indice_noticia_similar]}\")"
      ],
      "metadata": {
        "colab": {
          "base_uri": "https://localhost:8080/"
        },
        "id": "i_DyY0masv0y",
        "outputId": "aa1108d8-0984-416d-9360-4fcccae96a6a"
      },
      "execution_count": null,
      "outputs": [
        {
          "output_type": "stream",
          "name": "stdout",
          "text": [
            "Similaridade do cosseno\n",
            "Noticia11: Similaridade de 0.11\n",
            "Texto: Os estadios da copa do mundo\n",
            "Noticia5: Similaridade de 0.10\n",
            "Texto: Palmeiras vence o Ituano por 1 a 0 e vai a final do paulista\n"
          ]
        }
      ]
    },
    {
      "cell_type": "code",
      "source": [
        "print('Distancia Euclidiana')\n",
        "distancias = euclidean_distances(X)"
      ],
      "metadata": {
        "colab": {
          "base_uri": "https://localhost:8080/"
        },
        "id": "U24NDTdXvEJk",
        "outputId": "cfd35e3d-c899-404e-cea7-b3871eadeea5"
      },
      "execution_count": null,
      "outputs": [
        {
          "output_type": "stream",
          "name": "stdout",
          "text": [
            "Distancia Euclidiana\n"
          ]
        }
      ]
    },
    {
      "cell_type": "code",
      "source": [
        "distancias_primeira = distancias[noticia]\n",
        "ranking_distancias = np.argsort(distancias_primeira)"
      ],
      "metadata": {
        "id": "Pxq-9xKwvK7a"
      },
      "execution_count": null,
      "outputs": []
    },
    {
      "cell_type": "code",
      "source": [
        "for i in range(1,3):\n",
        "  indice_documento_proximo = ranking_distancias[i]\n",
        "  distancia_documento = distancias_primeira[indice_documento_proximo]\n",
        "  print(f\"Noticia{indice_documento_proximo + 1}: Similaridade de {distancia_documento:.2f}\")\n",
        "  print(f\"Texto: {documents[indice_documento_proximo]}\")"
      ],
      "metadata": {
        "colab": {
          "base_uri": "https://localhost:8080/"
        },
        "id": "ON8WNhnSva1P",
        "outputId": "5f329112-0203-49d2-c507-72073de3e627"
      },
      "execution_count": null,
      "outputs": [
        {
          "output_type": "stream",
          "name": "stdout",
          "text": [
            "Noticia11: Similaridade de 1.33\n",
            "Texto: Os estadios da copa do mundo\n",
            "Noticia5: Similaridade de 1.34\n",
            "Texto: Palmeiras vence o Ituano por 1 a 0 e vai a final do paulista\n"
          ]
        }
      ]
    },
    {
      "cell_type": "code",
      "source": [
        "distancia_manhattan = manhattan_distances(X)\n",
        "distancias_m = distancia_manhattan[noticia]\n",
        "ranking_m = np.argsort(distancias_m)"
      ],
      "metadata": {
        "id": "5BSzjq-EwcFb"
      },
      "execution_count": null,
      "outputs": []
    },
    {
      "cell_type": "code",
      "source": [
        "for i in range(1,3):\n",
        "  indice_documento_proximo = ranking_m[i]\n",
        "  distancia_documento = distancias_m[indice_documento_proximo]\n",
        "  print(f\"Noticia{indice_documento_proximo + 1}: Similaridade de {distancia_documento:.2f}\")\n",
        "  print(f\"Texto: {documents[indice_documento_proximo]}\")"
      ],
      "metadata": {
        "colab": {
          "base_uri": "https://localhost:8080/"
        },
        "id": "QbY31Kvuwih5",
        "outputId": "5af34209-3d6b-475d-ce31-ac53c6b92e12"
      },
      "execution_count": null,
      "outputs": [
        {
          "output_type": "stream",
          "name": "stdout",
          "text": [
            "Noticia11: Similaridade de 4.02\n",
            "Texto: Os estadios da copa do mundo\n",
            "Noticia3: Similaridade de 4.46\n",
            "Texto: Ladrão rouba carro e deixa ferido\n"
          ]
        }
      ]
    }
  ]
}